{
 "cells": [
  {
   "cell_type": "code",
   "execution_count": 112,
   "metadata": {},
   "outputs": [],
   "source": [
    "# !pip install pycoingecko"
   ]
  },
  {
   "cell_type": "code",
   "execution_count": 113,
   "metadata": {},
   "outputs": [],
   "source": [
    "import pandas as pd\n",
    "from pycoingecko import CoinGeckoAPI\n",
    "import datetime\n",
    "import time\n",
    "import numpy as np\n",
    "import matplotlib.pyplot as plt"
   ]
  },
  {
   "cell_type": "code",
   "execution_count": 114,
   "metadata": {},
   "outputs": [],
   "source": [
    "gecko_list = [\n",
    "    \"ethereum\"\n",
    "]"
   ]
  },
  {
   "cell_type": "code",
   "execution_count": 115,
   "metadata": {},
   "outputs": [],
   "source": [
    "cg = CoinGeckoAPI()"
   ]
  },
  {
   "cell_type": "code",
   "execution_count": 116,
   "metadata": {},
   "outputs": [],
   "source": [
    "timePeriod = 300\n",
    "\n",
    "data = {}\n",
    "for coin in gecko_list:\n",
    "    try:\n",
    "        nested_lists = cg.get_coin_market_chart_by_id(\n",
    "            id=coin, vs_currency=\"usd\", days=timePeriod\n",
    "        )[\"prices\"]\n",
    "        data[coin] = {}\n",
    "        data[coin][\"timestamps\"], data[coin][\"values\"] = zip(*nested_lists)\n",
    "\n",
    "    except Exception as e:\n",
    "        print(e)\n",
    "        print(\"coin: \" + coin)\n",
    "\n",
    "frame_list = [\n",
    "    pd.DataFrame(data[coin][\"values\"], index=data[coin][\"timestamps\"], columns=[coin])\n",
    "    for coin in gecko_list\n",
    "    if coin in data\n",
    "]"
   ]
  },
  {
   "cell_type": "code",
   "execution_count": 117,
   "metadata": {},
   "outputs": [
    {
     "data": {
      "text/html": [
       "<div>\n",
       "<style scoped>\n",
       "    .dataframe tbody tr th:only-of-type {\n",
       "        vertical-align: middle;\n",
       "    }\n",
       "\n",
       "    .dataframe tbody tr th {\n",
       "        vertical-align: top;\n",
       "    }\n",
       "\n",
       "    .dataframe thead th {\n",
       "        text-align: right;\n",
       "    }\n",
       "</style>\n",
       "<table border=\"1\" class=\"dataframe\">\n",
       "  <thead>\n",
       "    <tr style=\"text-align: right;\">\n",
       "      <th></th>\n",
       "      <th>ethereum</th>\n",
       "    </tr>\n",
       "  </thead>\n",
       "  <tbody>\n",
       "    <tr>\n",
       "      <th>1658448000000</th>\n",
       "      <td>1576.825239</td>\n",
       "    </tr>\n",
       "    <tr>\n",
       "      <th>1658534400000</th>\n",
       "      <td>1536.124922</td>\n",
       "    </tr>\n",
       "    <tr>\n",
       "      <th>1658620800000</th>\n",
       "      <td>1552.496489</td>\n",
       "    </tr>\n",
       "    <tr>\n",
       "      <th>1658707200000</th>\n",
       "      <td>1601.207967</td>\n",
       "    </tr>\n",
       "    <tr>\n",
       "      <th>1658793600000</th>\n",
       "      <td>1450.482285</td>\n",
       "    </tr>\n",
       "    <tr>\n",
       "      <th>...</th>\n",
       "      <td>...</td>\n",
       "    </tr>\n",
       "    <tr>\n",
       "      <th>1684022400000</th>\n",
       "      <td>1797.199470</td>\n",
       "    </tr>\n",
       "    <tr>\n",
       "      <th>1684108800000</th>\n",
       "      <td>1799.008659</td>\n",
       "    </tr>\n",
       "    <tr>\n",
       "      <th>1684195200000</th>\n",
       "      <td>1820.044760</td>\n",
       "    </tr>\n",
       "    <tr>\n",
       "      <th>1684281600000</th>\n",
       "      <td>1823.663018</td>\n",
       "    </tr>\n",
       "    <tr>\n",
       "      <th>1684340664000</th>\n",
       "      <td>1796.895609</td>\n",
       "    </tr>\n",
       "  </tbody>\n",
       "</table>\n",
       "<p>301 rows × 1 columns</p>\n",
       "</div>"
      ],
      "text/plain": [
       "                  ethereum\n",
       "1658448000000  1576.825239\n",
       "1658534400000  1536.124922\n",
       "1658620800000  1552.496489\n",
       "1658707200000  1601.207967\n",
       "1658793600000  1450.482285\n",
       "...                    ...\n",
       "1684022400000  1797.199470\n",
       "1684108800000  1799.008659\n",
       "1684195200000  1820.044760\n",
       "1684281600000  1823.663018\n",
       "1684340664000  1796.895609\n",
       "\n",
       "[301 rows x 1 columns]"
      ]
     },
     "execution_count": 117,
     "metadata": {},
     "output_type": "execute_result"
    }
   ],
   "source": [
    "df_cyptocurrency = pd.concat(frame_list, axis=1).sort_index()\n",
    "df_cyptocurrency"
   ]
  },
  {
   "cell_type": "code",
   "execution_count": 118,
   "metadata": {},
   "outputs": [
    {
     "data": {
      "text/html": [
       "<div>\n",
       "<style scoped>\n",
       "    .dataframe tbody tr th:only-of-type {\n",
       "        vertical-align: middle;\n",
       "    }\n",
       "\n",
       "    .dataframe tbody tr th {\n",
       "        vertical-align: top;\n",
       "    }\n",
       "\n",
       "    .dataframe thead th {\n",
       "        text-align: right;\n",
       "    }\n",
       "</style>\n",
       "<table border=\"1\" class=\"dataframe\">\n",
       "  <thead>\n",
       "    <tr style=\"text-align: right;\">\n",
       "      <th></th>\n",
       "      <th>ethereum</th>\n",
       "      <th>datetime</th>\n",
       "      <th>date</th>\n",
       "      <th>hour</th>\n",
       "    </tr>\n",
       "  </thead>\n",
       "  <tbody>\n",
       "    <tr>\n",
       "      <th>1658448000000</th>\n",
       "      <td>1576.825239</td>\n",
       "      <td>2022-07-22 00:00:00</td>\n",
       "      <td>2022-07-22</td>\n",
       "      <td>0</td>\n",
       "    </tr>\n",
       "    <tr>\n",
       "      <th>1658534400000</th>\n",
       "      <td>1536.124922</td>\n",
       "      <td>2022-07-23 00:00:00</td>\n",
       "      <td>2022-07-23</td>\n",
       "      <td>0</td>\n",
       "    </tr>\n",
       "    <tr>\n",
       "      <th>1658620800000</th>\n",
       "      <td>1552.496489</td>\n",
       "      <td>2022-07-24 00:00:00</td>\n",
       "      <td>2022-07-24</td>\n",
       "      <td>0</td>\n",
       "    </tr>\n",
       "    <tr>\n",
       "      <th>1658707200000</th>\n",
       "      <td>1601.207967</td>\n",
       "      <td>2022-07-25 00:00:00</td>\n",
       "      <td>2022-07-25</td>\n",
       "      <td>0</td>\n",
       "    </tr>\n",
       "    <tr>\n",
       "      <th>1658793600000</th>\n",
       "      <td>1450.482285</td>\n",
       "      <td>2022-07-26 00:00:00</td>\n",
       "      <td>2022-07-26</td>\n",
       "      <td>0</td>\n",
       "    </tr>\n",
       "    <tr>\n",
       "      <th>...</th>\n",
       "      <td>...</td>\n",
       "      <td>...</td>\n",
       "      <td>...</td>\n",
       "      <td>...</td>\n",
       "    </tr>\n",
       "    <tr>\n",
       "      <th>1684022400000</th>\n",
       "      <td>1797.199470</td>\n",
       "      <td>2023-05-14 00:00:00</td>\n",
       "      <td>2023-05-14</td>\n",
       "      <td>0</td>\n",
       "    </tr>\n",
       "    <tr>\n",
       "      <th>1684108800000</th>\n",
       "      <td>1799.008659</td>\n",
       "      <td>2023-05-15 00:00:00</td>\n",
       "      <td>2023-05-15</td>\n",
       "      <td>0</td>\n",
       "    </tr>\n",
       "    <tr>\n",
       "      <th>1684195200000</th>\n",
       "      <td>1820.044760</td>\n",
       "      <td>2023-05-16 00:00:00</td>\n",
       "      <td>2023-05-16</td>\n",
       "      <td>0</td>\n",
       "    </tr>\n",
       "    <tr>\n",
       "      <th>1684281600000</th>\n",
       "      <td>1823.663018</td>\n",
       "      <td>2023-05-17 00:00:00</td>\n",
       "      <td>2023-05-17</td>\n",
       "      <td>0</td>\n",
       "    </tr>\n",
       "    <tr>\n",
       "      <th>1684340664000</th>\n",
       "      <td>1796.895609</td>\n",
       "      <td>2023-05-17 16:24:24</td>\n",
       "      <td>2023-05-17</td>\n",
       "      <td>16</td>\n",
       "    </tr>\n",
       "  </tbody>\n",
       "</table>\n",
       "<p>301 rows × 4 columns</p>\n",
       "</div>"
      ],
      "text/plain": [
       "                  ethereum            datetime        date  hour\n",
       "1658448000000  1576.825239 2022-07-22 00:00:00  2022-07-22     0\n",
       "1658534400000  1536.124922 2022-07-23 00:00:00  2022-07-23     0\n",
       "1658620800000  1552.496489 2022-07-24 00:00:00  2022-07-24     0\n",
       "1658707200000  1601.207967 2022-07-25 00:00:00  2022-07-25     0\n",
       "1658793600000  1450.482285 2022-07-26 00:00:00  2022-07-26     0\n",
       "...                    ...                 ...         ...   ...\n",
       "1684022400000  1797.199470 2023-05-14 00:00:00  2023-05-14     0\n",
       "1684108800000  1799.008659 2023-05-15 00:00:00  2023-05-15     0\n",
       "1684195200000  1820.044760 2023-05-16 00:00:00  2023-05-16     0\n",
       "1684281600000  1823.663018 2023-05-17 00:00:00  2023-05-17     0\n",
       "1684340664000  1796.895609 2023-05-17 16:24:24  2023-05-17    16\n",
       "\n",
       "[301 rows x 4 columns]"
      ]
     },
     "execution_count": 118,
     "metadata": {},
     "output_type": "execute_result"
    }
   ],
   "source": [
    "df_cyptocurrency[\"datetime\"] = pd.to_datetime(df_cyptocurrency.index, unit=\"ms\")\n",
    "df_cyptocurrency[\"date\"] = df_cyptocurrency[\"datetime\"].dt.date\n",
    "df_cyptocurrency[\"hour\"] = df_cyptocurrency[\"datetime\"].dt.hour\n",
    "df_cyptocurrency"
   ]
  },
  {
   "cell_type": "code",
   "execution_count": 119,
   "metadata": {},
   "outputs": [
    {
     "data": {
      "text/html": [
       "<div>\n",
       "<style scoped>\n",
       "    .dataframe tbody tr th:only-of-type {\n",
       "        vertical-align: middle;\n",
       "    }\n",
       "\n",
       "    .dataframe tbody tr th {\n",
       "        vertical-align: top;\n",
       "    }\n",
       "\n",
       "    .dataframe thead th {\n",
       "        text-align: right;\n",
       "    }\n",
       "</style>\n",
       "<table border=\"1\" class=\"dataframe\">\n",
       "  <thead>\n",
       "    <tr style=\"text-align: right;\">\n",
       "      <th></th>\n",
       "      <th>datetime</th>\n",
       "      <th>date</th>\n",
       "      <th>hour</th>\n",
       "      <th>currency_name</th>\n",
       "      <th>value</th>\n",
       "    </tr>\n",
       "  </thead>\n",
       "  <tbody>\n",
       "    <tr>\n",
       "      <th>0</th>\n",
       "      <td>2022-07-22</td>\n",
       "      <td>2022-07-22</td>\n",
       "      <td>0</td>\n",
       "      <td>ethereum</td>\n",
       "      <td>1576.825239</td>\n",
       "    </tr>\n",
       "    <tr>\n",
       "      <th>1</th>\n",
       "      <td>2022-07-23</td>\n",
       "      <td>2022-07-23</td>\n",
       "      <td>0</td>\n",
       "      <td>ethereum</td>\n",
       "      <td>1536.124922</td>\n",
       "    </tr>\n",
       "    <tr>\n",
       "      <th>2</th>\n",
       "      <td>2022-07-24</td>\n",
       "      <td>2022-07-24</td>\n",
       "      <td>0</td>\n",
       "      <td>ethereum</td>\n",
       "      <td>1552.496489</td>\n",
       "    </tr>\n",
       "    <tr>\n",
       "      <th>3</th>\n",
       "      <td>2022-07-25</td>\n",
       "      <td>2022-07-25</td>\n",
       "      <td>0</td>\n",
       "      <td>ethereum</td>\n",
       "      <td>1601.207967</td>\n",
       "    </tr>\n",
       "    <tr>\n",
       "      <th>4</th>\n",
       "      <td>2022-07-26</td>\n",
       "      <td>2022-07-26</td>\n",
       "      <td>0</td>\n",
       "      <td>ethereum</td>\n",
       "      <td>1450.482285</td>\n",
       "    </tr>\n",
       "  </tbody>\n",
       "</table>\n",
       "</div>"
      ],
      "text/plain": [
       "    datetime        date  hour currency_name        value\n",
       "0 2022-07-22  2022-07-22     0      ethereum  1576.825239\n",
       "1 2022-07-23  2022-07-23     0      ethereum  1536.124922\n",
       "2 2022-07-24  2022-07-24     0      ethereum  1552.496489\n",
       "3 2022-07-25  2022-07-25     0      ethereum  1601.207967\n",
       "4 2022-07-26  2022-07-26     0      ethereum  1450.482285"
      ]
     },
     "execution_count": 119,
     "metadata": {},
     "output_type": "execute_result"
    }
   ],
   "source": [
    "df_cyptocurrency = df_cyptocurrency.melt(\n",
    "    id_vars=[\"datetime\", \"date\", \"hour\"], var_name=\"currency_name\", ignore_index=True\n",
    ")\n",
    "df_cyptocurrency.head(5)"
   ]
  },
  {
   "cell_type": "code",
   "execution_count": 120,
   "metadata": {},
   "outputs": [],
   "source": [
    "df_cyptocurrency.dropna(inplace=True)"
   ]
  },
  {
   "cell_type": "code",
   "execution_count": 121,
   "metadata": {},
   "outputs": [],
   "source": [
    "curr = dict(\n",
    "    [\n",
    "        (\"ethereum\", \"ETH\"),\n",
    "    ]\n",
    ")\n",
    "\n",
    "df_cyptocurrency[\"coin_symbol\"] = df_cyptocurrency[\"currency_name\"].apply(\n",
    "    lambda c: curr[c]\n",
    ")"
   ]
  },
  {
   "cell_type": "code",
   "execution_count": 122,
   "metadata": {},
   "outputs": [
    {
     "data": {
      "text/html": [
       "<div>\n",
       "<style scoped>\n",
       "    .dataframe tbody tr th:only-of-type {\n",
       "        vertical-align: middle;\n",
       "    }\n",
       "\n",
       "    .dataframe tbody tr th {\n",
       "        vertical-align: top;\n",
       "    }\n",
       "\n",
       "    .dataframe thead th {\n",
       "        text-align: right;\n",
       "    }\n",
       "</style>\n",
       "<table border=\"1\" class=\"dataframe\">\n",
       "  <thead>\n",
       "    <tr style=\"text-align: right;\">\n",
       "      <th></th>\n",
       "      <th>datetime</th>\n",
       "      <th>date</th>\n",
       "      <th>hour</th>\n",
       "      <th>currency_name</th>\n",
       "      <th>value</th>\n",
       "      <th>coin_symbol</th>\n",
       "    </tr>\n",
       "  </thead>\n",
       "  <tbody>\n",
       "    <tr>\n",
       "      <th>0</th>\n",
       "      <td>2022-07-22 00:00:00</td>\n",
       "      <td>2022-07-22</td>\n",
       "      <td>0</td>\n",
       "      <td>ethereum</td>\n",
       "      <td>1576.825239</td>\n",
       "      <td>ETH</td>\n",
       "    </tr>\n",
       "    <tr>\n",
       "      <th>1</th>\n",
       "      <td>2022-07-23 00:00:00</td>\n",
       "      <td>2022-07-23</td>\n",
       "      <td>0</td>\n",
       "      <td>ethereum</td>\n",
       "      <td>1536.124922</td>\n",
       "      <td>ETH</td>\n",
       "    </tr>\n",
       "    <tr>\n",
       "      <th>2</th>\n",
       "      <td>2022-07-24 00:00:00</td>\n",
       "      <td>2022-07-24</td>\n",
       "      <td>0</td>\n",
       "      <td>ethereum</td>\n",
       "      <td>1552.496489</td>\n",
       "      <td>ETH</td>\n",
       "    </tr>\n",
       "    <tr>\n",
       "      <th>3</th>\n",
       "      <td>2022-07-25 00:00:00</td>\n",
       "      <td>2022-07-25</td>\n",
       "      <td>0</td>\n",
       "      <td>ethereum</td>\n",
       "      <td>1601.207967</td>\n",
       "      <td>ETH</td>\n",
       "    </tr>\n",
       "    <tr>\n",
       "      <th>4</th>\n",
       "      <td>2022-07-26 00:00:00</td>\n",
       "      <td>2022-07-26</td>\n",
       "      <td>0</td>\n",
       "      <td>ethereum</td>\n",
       "      <td>1450.482285</td>\n",
       "      <td>ETH</td>\n",
       "    </tr>\n",
       "    <tr>\n",
       "      <th>...</th>\n",
       "      <td>...</td>\n",
       "      <td>...</td>\n",
       "      <td>...</td>\n",
       "      <td>...</td>\n",
       "      <td>...</td>\n",
       "      <td>...</td>\n",
       "    </tr>\n",
       "    <tr>\n",
       "      <th>296</th>\n",
       "      <td>2023-05-14 00:00:00</td>\n",
       "      <td>2023-05-14</td>\n",
       "      <td>0</td>\n",
       "      <td>ethereum</td>\n",
       "      <td>1797.199470</td>\n",
       "      <td>ETH</td>\n",
       "    </tr>\n",
       "    <tr>\n",
       "      <th>297</th>\n",
       "      <td>2023-05-15 00:00:00</td>\n",
       "      <td>2023-05-15</td>\n",
       "      <td>0</td>\n",
       "      <td>ethereum</td>\n",
       "      <td>1799.008659</td>\n",
       "      <td>ETH</td>\n",
       "    </tr>\n",
       "    <tr>\n",
       "      <th>298</th>\n",
       "      <td>2023-05-16 00:00:00</td>\n",
       "      <td>2023-05-16</td>\n",
       "      <td>0</td>\n",
       "      <td>ethereum</td>\n",
       "      <td>1820.044760</td>\n",
       "      <td>ETH</td>\n",
       "    </tr>\n",
       "    <tr>\n",
       "      <th>299</th>\n",
       "      <td>2023-05-17 00:00:00</td>\n",
       "      <td>2023-05-17</td>\n",
       "      <td>0</td>\n",
       "      <td>ethereum</td>\n",
       "      <td>1823.663018</td>\n",
       "      <td>ETH</td>\n",
       "    </tr>\n",
       "    <tr>\n",
       "      <th>300</th>\n",
       "      <td>2023-05-17 16:24:24</td>\n",
       "      <td>2023-05-17</td>\n",
       "      <td>16</td>\n",
       "      <td>ethereum</td>\n",
       "      <td>1796.895609</td>\n",
       "      <td>ETH</td>\n",
       "    </tr>\n",
       "  </tbody>\n",
       "</table>\n",
       "<p>301 rows × 6 columns</p>\n",
       "</div>"
      ],
      "text/plain": [
       "               datetime        date  hour currency_name        value  \\\n",
       "0   2022-07-22 00:00:00  2022-07-22     0      ethereum  1576.825239   \n",
       "1   2022-07-23 00:00:00  2022-07-23     0      ethereum  1536.124922   \n",
       "2   2022-07-24 00:00:00  2022-07-24     0      ethereum  1552.496489   \n",
       "3   2022-07-25 00:00:00  2022-07-25     0      ethereum  1601.207967   \n",
       "4   2022-07-26 00:00:00  2022-07-26     0      ethereum  1450.482285   \n",
       "..                  ...         ...   ...           ...          ...   \n",
       "296 2023-05-14 00:00:00  2023-05-14     0      ethereum  1797.199470   \n",
       "297 2023-05-15 00:00:00  2023-05-15     0      ethereum  1799.008659   \n",
       "298 2023-05-16 00:00:00  2023-05-16     0      ethereum  1820.044760   \n",
       "299 2023-05-17 00:00:00  2023-05-17     0      ethereum  1823.663018   \n",
       "300 2023-05-17 16:24:24  2023-05-17    16      ethereum  1796.895609   \n",
       "\n",
       "    coin_symbol  \n",
       "0           ETH  \n",
       "1           ETH  \n",
       "2           ETH  \n",
       "3           ETH  \n",
       "4           ETH  \n",
       "..          ...  \n",
       "296         ETH  \n",
       "297         ETH  \n",
       "298         ETH  \n",
       "299         ETH  \n",
       "300         ETH  \n",
       "\n",
       "[301 rows x 6 columns]"
      ]
     },
     "execution_count": 122,
     "metadata": {},
     "output_type": "execute_result"
    }
   ],
   "source": [
    "df_cyptocurrency"
   ]
  },
  {
   "cell_type": "code",
   "execution_count": 123,
   "metadata": {},
   "outputs": [],
   "source": [
    "df_cyptocurrency = df_cyptocurrency.rename(columns={'date': 'Date', 'value': 'Value'})"
   ]
  },
  {
   "cell_type": "code",
   "execution_count": 124,
   "metadata": {},
   "outputs": [
    {
     "data": {
      "text/plain": [
       "datetime         datetime64[ns]\n",
       "Date                     object\n",
       "hour                      int64\n",
       "currency_name            object\n",
       "Value                   float64\n",
       "coin_symbol              object\n",
       "dtype: object"
      ]
     },
     "execution_count": 124,
     "metadata": {},
     "output_type": "execute_result"
    }
   ],
   "source": [
    "df_cyptocurrency.dtypes"
   ]
  },
  {
   "cell_type": "code",
   "execution_count": 125,
   "metadata": {},
   "outputs": [],
   "source": [
    "# df_cyptocurrency['Date'] = pd.to_datetime(df_cyptocurrency['datetime'])\n",
    "df_filtered = df_cyptocurrency[(df_cyptocurrency['datetime'] >= '2022-08-15') & (df_cyptocurrency['datetime'] <= '2022-09-15')]"
   ]
  },
  {
   "cell_type": "code",
   "execution_count": 126,
   "metadata": {},
   "outputs": [
    {
     "data": {
      "text/html": [
       "<div>\n",
       "<style scoped>\n",
       "    .dataframe tbody tr th:only-of-type {\n",
       "        vertical-align: middle;\n",
       "    }\n",
       "\n",
       "    .dataframe tbody tr th {\n",
       "        vertical-align: top;\n",
       "    }\n",
       "\n",
       "    .dataframe thead th {\n",
       "        text-align: right;\n",
       "    }\n",
       "</style>\n",
       "<table border=\"1\" class=\"dataframe\">\n",
       "  <thead>\n",
       "    <tr style=\"text-align: right;\">\n",
       "      <th></th>\n",
       "      <th>datetime</th>\n",
       "      <th>Date</th>\n",
       "      <th>hour</th>\n",
       "      <th>currency_name</th>\n",
       "      <th>Value</th>\n",
       "      <th>coin_symbol</th>\n",
       "    </tr>\n",
       "  </thead>\n",
       "  <tbody>\n",
       "    <tr>\n",
       "      <th>24</th>\n",
       "      <td>2022-08-15</td>\n",
       "      <td>2022-08-15</td>\n",
       "      <td>0</td>\n",
       "      <td>ethereum</td>\n",
       "      <td>1936.701164</td>\n",
       "      <td>ETH</td>\n",
       "    </tr>\n",
       "    <tr>\n",
       "      <th>25</th>\n",
       "      <td>2022-08-16</td>\n",
       "      <td>2022-08-16</td>\n",
       "      <td>0</td>\n",
       "      <td>ethereum</td>\n",
       "      <td>1908.277642</td>\n",
       "      <td>ETH</td>\n",
       "    </tr>\n",
       "    <tr>\n",
       "      <th>26</th>\n",
       "      <td>2022-08-17</td>\n",
       "      <td>2022-08-17</td>\n",
       "      <td>0</td>\n",
       "      <td>ethereum</td>\n",
       "      <td>1880.600101</td>\n",
       "      <td>ETH</td>\n",
       "    </tr>\n",
       "    <tr>\n",
       "      <th>27</th>\n",
       "      <td>2022-08-18</td>\n",
       "      <td>2022-08-18</td>\n",
       "      <td>0</td>\n",
       "      <td>ethereum</td>\n",
       "      <td>1834.826453</td>\n",
       "      <td>ETH</td>\n",
       "    </tr>\n",
       "    <tr>\n",
       "      <th>28</th>\n",
       "      <td>2022-08-19</td>\n",
       "      <td>2022-08-19</td>\n",
       "      <td>0</td>\n",
       "      <td>ethereum</td>\n",
       "      <td>1850.111291</td>\n",
       "      <td>ETH</td>\n",
       "    </tr>\n",
       "  </tbody>\n",
       "</table>\n",
       "</div>"
      ],
      "text/plain": [
       "     datetime        Date  hour currency_name        Value coin_symbol\n",
       "24 2022-08-15  2022-08-15     0      ethereum  1936.701164         ETH\n",
       "25 2022-08-16  2022-08-16     0      ethereum  1908.277642         ETH\n",
       "26 2022-08-17  2022-08-17     0      ethereum  1880.600101         ETH\n",
       "27 2022-08-18  2022-08-18     0      ethereum  1834.826453         ETH\n",
       "28 2022-08-19  2022-08-19     0      ethereum  1850.111291         ETH"
      ]
     },
     "execution_count": 126,
     "metadata": {},
     "output_type": "execute_result"
    }
   ],
   "source": [
    "df_filtered.head(5)"
   ]
  },
  {
   "attachments": {},
   "cell_type": "markdown",
   "metadata": {},
   "source": [
    "----\n",
    "### Plotting para permitir verificar a variação do preço"
   ]
  },
  {
   "cell_type": "code",
   "execution_count": 127,
   "metadata": {},
   "outputs": [],
   "source": [
    "df_daily = df_filtered.groupby(['Date', 'currency_name'])['Value'].agg('mean').reset_index()\n"
   ]
  },
  {
   "cell_type": "code",
   "execution_count": 128,
   "metadata": {},
   "outputs": [
    {
     "data": {
      "image/png": "[encoded data removed]",
      "text/plain": [
       "<Figure size 864x576 with 1 Axes>"
      ]
     },
     "metadata": {
      "needs_background": "light"
     },
     "output_type": "display_data"
    }
   ],
   "source": [
    "fig, ax = plt.subplots(figsize=(12, 8))\n",
    "\n",
    "for currency in df_daily['currency_name'].unique():\n",
    "    df_currency = df_daily[df_daily['currency_name'] == currency]\n",
    "    ax.plot(df_currency['Date'], df_currency['Value'], label=currency)\n",
    "\n",
    "ax.set_xlabel('Data')\n",
    "ax.set_ylabel('Valor')\n",
    "ax.set_title('Variação do Valor das Moedas')\n",
    "ax.legend()\n",
    "plt.show()\n"
   ]
  },
  {
   "cell_type": "code",
   "execution_count": 129,
   "metadata": {},
   "outputs": [],
   "source": [
    "df_filtered = df_filtered[ ~( df_filtered.isin( [np.inf, -np.inf]).any(axis =1) )] #to remove inf"
   ]
  },
  {
   "cell_type": "code",
   "execution_count": 130,
   "metadata": {},
   "outputs": [],
   "source": [
    "df_filtered.to_csv('../data/price_mining.csv', index=False)"
   ]
  },
  {
   "cell_type": "code",
   "execution_count": 131,
   "metadata": {},
   "outputs": [
    {
     "name": "stdout",
     "output_type": "stream",
     "text": [
      "False\n"
     ]
    }
   ],
   "source": [
    "print(np.isinf(df_filtered['Value']).any()) "
   ]
  },
  {
   "cell_type": "code",
   "execution_count": 132,
   "metadata": {},
   "outputs": [
    {
     "data": {
      "text/plain": [
       "False"
      ]
     },
     "execution_count": 132,
     "metadata": {},
     "output_type": "execute_result"
    }
   ],
   "source": [
    "df_filtered['Value'].isnull().values.any()"
   ]
  },
  {
   "cell_type": "code",
   "execution_count": 134,
   "metadata": {},
   "outputs": [
    {
     "data": {
      "text/plain": [
       "array([datetime.date(2022, 8, 15), datetime.date(2022, 8, 16),\n",
       "       datetime.date(2022, 8, 17), datetime.date(2022, 8, 18),\n",
       "       datetime.date(2022, 8, 19), datetime.date(2022, 8, 20),\n",
       "       datetime.date(2022, 8, 21), datetime.date(2022, 8, 22),\n",
       "       datetime.date(2022, 8, 23), datetime.date(2022, 8, 24),\n",
       "       datetime.date(2022, 8, 25), datetime.date(2022, 8, 26),\n",
       "       datetime.date(2022, 8, 27), datetime.date(2022, 8, 28),\n",
       "       datetime.date(2022, 8, 29), datetime.date(2022, 8, 30),\n",
       "       datetime.date(2022, 8, 31), datetime.date(2022, 9, 1),\n",
       "       datetime.date(2022, 9, 2), datetime.date(2022, 9, 3),\n",
       "       datetime.date(2022, 9, 4), datetime.date(2022, 9, 5),\n",
       "       datetime.date(2022, 9, 6), datetime.date(2022, 9, 7),\n",
       "       datetime.date(2022, 9, 8), datetime.date(2022, 9, 9),\n",
       "       datetime.date(2022, 9, 10), datetime.date(2022, 9, 11),\n",
       "       datetime.date(2022, 9, 12), datetime.date(2022, 9, 13),\n",
       "       datetime.date(2022, 9, 14), datetime.date(2022, 9, 15)],\n",
       "      dtype=object)"
      ]
     },
     "execution_count": 134,
     "metadata": {},
     "output_type": "execute_result"
    }
   ],
   "source": [
    "df_filtered[\"Date\"].unique()"
   ]
  },
  {
   "cell_type": "code",
   "execution_count": null,
   "metadata": {},
   "outputs": [],
   "source": []
  }
 ],
 "metadata": {
  "kernelspec": {
   "display_name": "base",
   "language": "python",
   "name": "python3"
  },
  "language_info": {
   "codemirror_mode": {
    "name": "ipython",
    "version": 3
   },
   "file_extension": ".py",
   "mimetype": "text/x-python",
   "name": "python",
   "nbconvert_exporter": "python",
   "pygments_lexer": "ipython3",
   "version": "3.9.12"
  },
  "orig_nbformat": 4
 },
 "nbformat": 4,
 "nbformat_minor": 2
}
