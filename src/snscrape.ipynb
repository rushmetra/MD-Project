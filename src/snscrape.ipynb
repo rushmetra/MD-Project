{
 "cells": [
  {
   "cell_type": "code",
   "execution_count": 1,
   "metadata": {},
   "outputs": [
    {
     "name": "stdout",
     "output_type": "stream",
     "text": [
      "Collecting snscrape\n",
      "  Downloading snscrape-0.6.2.20230320-py3-none-any.whl (71 kB)\n",
      "\u001b[K     |████████████████████████████████| 71 kB 159 kB/s eta 0:00:01\n",
      "\u001b[?25hRequirement already satisfied: beautifulsoup4 in /home/josejoao/anaconda3/lib/python3.9/site-packages (from snscrape) (4.11.1)\n",
      "Requirement already satisfied: requests[socks] in /home/josejoao/anaconda3/lib/python3.9/site-packages (from snscrape) (2.27.1)\n",
      "Requirement already satisfied: lxml in /home/josejoao/anaconda3/lib/python3.9/site-packages (from snscrape) (4.8.0)\n",
      "Requirement already satisfied: filelock in /home/josejoao/anaconda3/lib/python3.9/site-packages (from snscrape) (3.6.0)\n",
      "Requirement already satisfied: soupsieve>1.2 in /home/josejoao/anaconda3/lib/python3.9/site-packages (from beautifulsoup4->snscrape) (2.3.1)\n",
      "Requirement already satisfied: idna<4,>=2.5 in /home/josejoao/anaconda3/lib/python3.9/site-packages (from requests[socks]->snscrape) (3.3)\n",
      "Requirement already satisfied: certifi>=2017.4.17 in /home/josejoao/anaconda3/lib/python3.9/site-packages (from requests[socks]->snscrape) (2021.10.8)\n",
      "Requirement already satisfied: charset-normalizer~=2.0.0 in /home/josejoao/anaconda3/lib/python3.9/site-packages (from requests[socks]->snscrape) (2.0.4)\n",
      "Requirement already satisfied: urllib3<1.27,>=1.21.1 in /home/josejoao/anaconda3/lib/python3.9/site-packages (from requests[socks]->snscrape) (1.26.9)\n",
      "Requirement already satisfied: PySocks!=1.5.7,>=1.5.6 in /home/josejoao/anaconda3/lib/python3.9/site-packages (from requests[socks]->snscrape) (1.7.1)\n",
      "Installing collected packages: snscrape\n",
      "Successfully installed snscrape-0.6.2.20230320\n"
     ]
    }
   ],
   "source": [
    "!pip install snscrape"
   ]
  },
  {
   "cell_type": "code",
   "execution_count": 2,
   "metadata": {},
   "outputs": [],
   "source": [
    "import pandas as pd\n",
    "import snscrape.modules.twitter as sntwitter"
   ]
  },
  {
   "cell_type": "code",
   "execution_count": 3,
   "metadata": {},
   "outputs": [
    {
     "name": "stderr",
     "output_type": "stream",
     "text": [
      "/tmp/ipykernel_38937/4120091720.py:11: DeprecatedFeatureWarning: content is deprecated, use rawContent instead\n",
      "  tweets.append([tweet.date, tweet.url, tweet.user.username, tweet.sourceLabel, tweet.user.location, tweet.content, tweet.likeCount, tweet.retweetCount,  tweet.quoteCount, tweet.replyCount])\n"
     ]
    }
   ],
   "source": [
    "query = \"(#bullish) until:2022-09-04 since:2022-09-03\"\n",
    "tweets = []\n",
    "limit = 100\n",
    "\n",
    "\n",
    "for tweet in sntwitter.TwitterHashtagScraper(query).get_items():\n",
    "    \n",
    "    if len(tweets) == limit:\n",
    "        break\n",
    "    else:\n",
    "        tweets.append([tweet.date, tweet.url, tweet.user.username, tweet.sourceLabel, tweet.user.location, tweet.content, tweet.likeCount, tweet.retweetCount,  tweet.quoteCount, tweet.replyCount])\n",
    "        \n",
    "df = pd.DataFrame(tweets, columns=['Date', 'TweetURL','User', 'Source', 'Location', 'Tweet', 'Likes_Count','Retweet_Count', 'Quote_Count', 'Reply_Count'])\n",
    "\n",
    "df.to_csv('../data/bullishTweets.csv')"
   ]
  }
 ],
 "metadata": {
  "kernelspec": {
   "display_name": "DAA",
   "language": "python",
   "name": "python3"
  },
  "language_info": {
   "codemirror_mode": {
    "name": "ipython",
    "version": 3
   },
   "file_extension": ".py",
   "mimetype": "text/x-python",
   "name": "python",
   "nbconvert_exporter": "python",
   "pygments_lexer": "ipython3",
   "version": "3.9.12"
  },
  "orig_nbformat": 4
 },
 "nbformat": 4,
 "nbformat_minor": 2
}
